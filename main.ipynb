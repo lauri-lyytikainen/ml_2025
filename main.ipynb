{
 "cells": [
  {
   "cell_type": "markdown",
   "id": "53ad8c30",
   "metadata": {},
   "source": [
    "# Machine learning 2025 Student Exam Evaluation\n"
   ]
  },
  {
   "cell_type": "markdown",
   "id": "7bfc46df",
   "metadata": {},
   "source": [
    "Initialize imports"
   ]
  },
  {
   "cell_type": "code",
   "execution_count": 21,
   "id": "5ed33998",
   "metadata": {},
   "outputs": [],
   "source": [
    "# import numpy as np\n",
    "import pandas as pd\n",
    "# import matplotlib.pyplot as plt"
   ]
  },
  {
   "cell_type": "markdown",
   "id": "ddafde33",
   "metadata": {},
   "source": [
    "Load the data and drop unnecessary columns and rows with missing values"
   ]
  },
  {
   "cell_type": "code",
   "execution_count": 22,
   "id": "73165c3b",
   "metadata": {},
   "outputs": [
    {
     "data": {
      "text/html": [
       "<div>\n",
       "<style scoped>\n",
       "    .dataframe tbody tr th:only-of-type {\n",
       "        vertical-align: middle;\n",
       "    }\n",
       "\n",
       "    .dataframe tbody tr th {\n",
       "        vertical-align: top;\n",
       "    }\n",
       "\n",
       "    .dataframe thead th {\n",
       "        text-align: right;\n",
       "    }\n",
       "</style>\n",
       "<table border=\"1\" class=\"dataframe\">\n",
       "  <thead>\n",
       "    <tr style=\"text-align: right;\">\n",
       "      <th></th>\n",
       "      <th>Hours_Studied</th>\n",
       "      <th>Sleep_Hours</th>\n",
       "      <th>Previous_Scores</th>\n",
       "      <th>Physical_Activity</th>\n",
       "      <th>Exam_Score</th>\n",
       "    </tr>\n",
       "  </thead>\n",
       "  <tbody>\n",
       "    <tr>\n",
       "      <th>0</th>\n",
       "      <td>23</td>\n",
       "      <td>7</td>\n",
       "      <td>73</td>\n",
       "      <td>3</td>\n",
       "      <td>67</td>\n",
       "    </tr>\n",
       "    <tr>\n",
       "      <th>1</th>\n",
       "      <td>19</td>\n",
       "      <td>8</td>\n",
       "      <td>59</td>\n",
       "      <td>4</td>\n",
       "      <td>61</td>\n",
       "    </tr>\n",
       "    <tr>\n",
       "      <th>2</th>\n",
       "      <td>24</td>\n",
       "      <td>7</td>\n",
       "      <td>91</td>\n",
       "      <td>4</td>\n",
       "      <td>74</td>\n",
       "    </tr>\n",
       "    <tr>\n",
       "      <th>3</th>\n",
       "      <td>29</td>\n",
       "      <td>8</td>\n",
       "      <td>98</td>\n",
       "      <td>4</td>\n",
       "      <td>71</td>\n",
       "    </tr>\n",
       "    <tr>\n",
       "      <th>4</th>\n",
       "      <td>19</td>\n",
       "      <td>6</td>\n",
       "      <td>65</td>\n",
       "      <td>4</td>\n",
       "      <td>70</td>\n",
       "    </tr>\n",
       "  </tbody>\n",
       "</table>\n",
       "</div>"
      ],
      "text/plain": [
       "   Hours_Studied  Sleep_Hours  Previous_Scores  Physical_Activity  Exam_Score\n",
       "0             23            7               73                  3          67\n",
       "1             19            8               59                  4          61\n",
       "2             24            7               91                  4          74\n",
       "3             29            8               98                  4          71\n",
       "4             19            6               65                  4          70"
      ]
     },
     "execution_count": 22,
     "metadata": {},
     "output_type": "execute_result"
    }
   ],
   "source": [
    "df = pd.read_csv('StudentPerformanceFactors.csv')\n",
    "df.drop(columns=[\n",
    "    'Attendance',\n",
    "    'Parental_Involvement',\n",
    "    'Access_to_Resources',\n",
    "    'Extracurricular_Activities',\n",
    "    'Motivation_Level', \n",
    "    'Internet_Access',\n",
    "    'Tutoring_Sessions',\n",
    "    'Family_Income',\n",
    "    'Teacher_Quality',\n",
    "    'School_Type',\n",
    "    'Peer_Influence',\n",
    "    'Learning_Disabilities',\n",
    "    'Parental_Education_Level',\n",
    "    'Distance_from_Home',\n",
    "    'Gender'\n",
    "    ], inplace=True)  # drop unrelevant columns\n",
    "df.dropna(inplace=True) # drop rows with missing values\n",
    "df.head(5)"
   ]
  }
 ],
 "metadata": {
  "kernelspec": {
   "display_name": ".venv",
   "language": "python",
   "name": "python3"
  },
  "language_info": {
   "codemirror_mode": {
    "name": "ipython",
    "version": 3
   },
   "file_extension": ".py",
   "mimetype": "text/x-python",
   "name": "python",
   "nbconvert_exporter": "python",
   "pygments_lexer": "ipython3",
   "version": "3.12.3"
  }
 },
 "nbformat": 4,
 "nbformat_minor": 5
}
